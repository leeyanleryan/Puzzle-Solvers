{
 "cells": [
  {
   "cell_type": "markdown",
   "metadata": {},
   "source": [
    "## Retrieve Wordle Words\n",
    "\n",
    "Simple web scraping code to retrieve the list of possible words curated for Wordle by NYTimes."
   ]
  },
  {
   "cell_type": "code",
   "execution_count": 37,
   "metadata": {},
   "outputs": [],
   "source": [
    "import requests"
   ]
  },
  {
   "cell_type": "markdown",
   "metadata": {},
   "source": [
    "### Scraping from GitHub\n",
    "\n",
    "Source: https://gist.github.com/cfreshman"
   ]
  },
  {
   "cell_type": "code",
   "execution_count": 38,
   "metadata": {},
   "outputs": [],
   "source": [
    "github_url = \"https://gist.githubusercontent.com/cfreshman/d97dbe7004522f7bc52ed2a6e22e2c04/raw/633058e11743065ad2822e1d2e6505682a01a9e6/wordle-nyt-words-14855.txt\""
   ]
  },
  {
   "cell_type": "markdown",
   "metadata": {},
   "source": [
    "#### Loading Words"
   ]
  },
  {
   "cell_type": "code",
   "execution_count": 39,
   "metadata": {},
   "outputs": [
    {
     "name": "stdout",
     "output_type": "stream",
     "text": [
      "Fetched 14855 words.\n",
      "['aahed', 'aalii', 'aapas', 'aargh', 'aarti', 'abaca', 'abaci', 'aback', 'abacs', 'abaft']\n"
     ]
    }
   ],
   "source": [
    "response = requests.get(github_url)\n",
    "\n",
    "if response.status_code == 200:\n",
    "    github_words = response.text\n",
    "    github_word_list = github_words.splitlines()\n",
    "    print(f\"Fetched {len(github_word_list)} words.\")\n",
    "    print(github_word_list[:10])\n",
    "else:\n",
    "    print(f\"Failed to fetch the file: {response.status_code}\")"
   ]
  },
  {
   "cell_type": "markdown",
   "metadata": {},
   "source": [
    "#### Saving Words"
   ]
  },
  {
   "cell_type": "code",
   "execution_count": 40,
   "metadata": {},
   "outputs": [],
   "source": [
    "if response.status_code == 200:\n",
    "    with open(\"github_words.txt\", \"w\") as f:\n",
    "        f.write(github_words)"
   ]
  },
  {
   "cell_type": "markdown",
   "metadata": {},
   "source": [
    "### Scraping from Merriam-Webster\n",
    "\n",
    "Source: https://www.merriam-webster.com/wordfinder"
   ]
  },
  {
   "cell_type": "code",
   "execution_count": 41,
   "metadata": {},
   "outputs": [],
   "source": [
    "mw_base = \"https://www.merriam-webster.com/wordfinder/classic/begins/all/5\"\n",
    "mw_letters = ['a','b','c','d','e','f','g','h','i','j','k','l','m','n','o','p','q','r','s','t','u','v','w','x','y','z']"
   ]
  },
  {
   "cell_type": "markdown",
   "metadata": {},
   "source": [
    "#### Checking Index of 5 Letter Words"
   ]
  },
  {
   "cell_type": "code",
   "execution_count": 42,
   "metadata": {},
   "outputs": [],
   "source": [
    "mw_letter_index = 0\n",
    "mw_page = 1\n",
    "\n",
    "mw_url = mw_base + \"/\" + mw_letters[mw_letter_index] + \"/\" + str(mw_page)\n",
    "response = requests.get(mw_url)\n",
    "\n",
    "if response.status_code == 200:\n",
    "    mw_website = response.text\n",
    "    with open(\"mw_test.txt\", \"w\") as f:\n",
    "        f.write(mw_website)\n",
    "else:\n",
    "    print(f\"Failed to fetch the file: {response.status_code}\")"
   ]
  },
  {
   "cell_type": "markdown",
   "metadata": {},
   "source": [
    "#### Loading Words"
   ]
  },
  {
   "cell_type": "code",
   "execution_count": 43,
   "metadata": {},
   "outputs": [
    {
     "name": "stdout",
     "output_type": "stream",
     "text": [
      "Fetched 14132 words.\n",
      "['aahed', 'aalii', 'aargh', 'abaca', 'abaci', 'aback', 'abaft', 'abase', 'abash', 'abasi']\n"
     ]
    }
   ],
   "source": [
    "mw_letter_index = 0\n",
    "mw_page = 1\n",
    "\n",
    "mw_word_list = []\n",
    "\n",
    "while True:\n",
    "    mw_url = mw_base + \"/\" + mw_letters[mw_letter_index] + \"/\" + str(mw_page)\n",
    "    has_words = False\n",
    "    response = requests.get(mw_url)\n",
    "\n",
    "    if response.status_code == 200:\n",
    "        mw_website = response.text\n",
    "        for i in range(len(mw_website)):\n",
    "            if mw_website[i:i+12] == \"/dictionary/\":\n",
    "                mw_word_list.append(mw_website[i+12:i+17])\n",
    "                has_words = True\n",
    "    else:\n",
    "        print(f\"Failed to fetch the file: {response.status_code}\")\n",
    "        break\n",
    "\n",
    "    if has_words:\n",
    "        mw_page += 1\n",
    "    else:\n",
    "        mw_letter_index += 1\n",
    "        mw_page = 1\n",
    "\n",
    "    if mw_letter_index == len(mw_letters):\n",
    "        break\n",
    "\n",
    "if response.status_code == 200:\n",
    "    print(f\"Fetched {len(mw_word_list)} words.\")\n",
    "    print(mw_word_list[:10])"
   ]
  },
  {
   "cell_type": "markdown",
   "metadata": {},
   "source": [
    "#### Saving Words"
   ]
  },
  {
   "cell_type": "code",
   "execution_count": 44,
   "metadata": {},
   "outputs": [],
   "source": [
    "mw_words = \"\\n\".join(mw_word_list)\n",
    "\n",
    "with open(\"mw_words.txt\", \"w\") as f:\n",
    "    f.write(mw_words)"
   ]
  }
 ],
 "metadata": {
  "kernelspec": {
   "display_name": "Python 3",
   "language": "python",
   "name": "python3"
  },
  "language_info": {
   "codemirror_mode": {
    "name": "ipython",
    "version": 3
   },
   "file_extension": ".py",
   "mimetype": "text/x-python",
   "name": "python",
   "nbconvert_exporter": "python",
   "pygments_lexer": "ipython3",
   "version": "3.11.7"
  }
 },
 "nbformat": 4,
 "nbformat_minor": 2
}
