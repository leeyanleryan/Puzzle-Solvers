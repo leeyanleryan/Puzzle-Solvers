{
 "cells": [
  {
   "cell_type": "code",
   "execution_count": 3,
   "metadata": {},
   "outputs": [
    {
     "name": "stdout",
     "output_type": "stream",
     "text": [
      "['aahed', 'aalii', 'aapas', 'aargh', 'aarti', 'abaca', 'abaci', 'aback', 'abacs', 'abaft']\n"
     ]
    }
   ],
   "source": [
    "words = []\n",
    "\n",
    "with open(\"words.txt\", \"r\") as f:\n",
    "    for word in f:\n",
    "        words.append(word.rstrip())\n",
    "\n",
    "print(words[:10])"
   ]
  }
 ],
 "metadata": {
  "kernelspec": {
   "display_name": "Python 3",
   "language": "python",
   "name": "python3"
  },
  "language_info": {
   "codemirror_mode": {
    "name": "ipython",
    "version": 3
   },
   "file_extension": ".py",
   "mimetype": "text/x-python",
   "name": "python",
   "nbconvert_exporter": "python",
   "pygments_lexer": "ipython3",
   "version": "3.11.7"
  }
 },
 "nbformat": 4,
 "nbformat_minor": 2
}
